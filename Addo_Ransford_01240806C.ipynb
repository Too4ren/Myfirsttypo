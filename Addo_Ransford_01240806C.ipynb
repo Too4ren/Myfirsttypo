{
  "cells": [
    {
      "cell_type": "code",
      "source": [
        "!git clone https://github.com/regentoop/principlesofprogramming.git"
      ],
      "metadata": {
        "colab": {
          "base_uri": "https://localhost:8080/"
        },
        "id": "K2GgfiEOcbqP",
        "outputId": "353fd4c3-25d6-4d32-d767-b48c7a5b5060"
      },
      "id": "K2GgfiEOcbqP",
      "execution_count": null,
      "outputs": [
        {
          "output_type": "stream",
          "name": "stdout",
          "text": [
            "Cloning into 'principlesofprogramming'...\n",
            "remote: Enumerating objects: 15, done.\u001b[K\n",
            "remote: Counting objects: 100% (15/15), done.\u001b[K\n",
            "remote: Compressing objects: 100% (13/13), done.\u001b[K\n",
            "remote: Total 15 (delta 4), reused 5 (delta 1), pack-reused 0 (from 0)\u001b[K\n",
            "Receiving objects: 100% (15/15), 4.80 KiB | 4.80 MiB/s, done.\n",
            "Resolving deltas: 100% (4/4), done.\n"
          ]
        }
      ]
    },
    {
      "cell_type": "code",
      "execution_count": 1,
      "id": "86146136-2468-4491-9793-8abbfb3efa18",
      "metadata": {
        "id": "86146136-2468-4491-9793-8abbfb3efa18",
        "colab": {
          "base_uri": "https://localhost:8080/"
        },
        "outputId": "d4c9ec13-a1b7-4681-bf78-a4634eaf26bb"
      },
      "outputs": [
        {
          "output_type": "stream",
          "name": "stdout",
          "text": [
            "Enter a number: 5\n",
            "\n",
            "Times Table for 5:\n",
            "\n",
            "5 × 1 = 5\n",
            "5 × 2 = 10\n",
            "5 × 3 = 15\n",
            "5 × 4 = 20\n",
            "5 × 5 = 25\n",
            "5 × 6 = 30\n",
            "5 × 7 = 35\n",
            "5 × 8 = 40\n",
            "5 × 9 = 45\n",
            "5 × 10 = 50\n",
            "5 × 11 = 55\n",
            "5 × 12 = 60\n"
          ]
        }
      ],
      "source": [
        "# 1. Give a guess what you think this code is going to do before you run it.\n",
        "number = int(input(\"Enter a number: \"))   #2. What do you think this line is going to do?\n",
        "\n",
        "\n",
        "print(f\"\\nTimes Table for {number}:\\n\")     #3. There is an error on this line can you find it and fix it?\n",
        "for i in range(1, 13):                 #4. Any guess as to what this strange line is supposed to do?\n",
        "    print(f\"{number} × {i} = {number * i}\")  #5. There's an error here too. Try to fix it.\n"
      ]
    },
    {
      "cell_type": "markdown",
      "source": [
        "1. This code will generate a times table for a user-provided number.\n",
        "2. This line asks the user for a number and converts it to an integer.\n",
        "3. Yes, i fixed the error by removing the erroneous comment inside the string.\n",
        "4. This loops through numbers 1 to 12.\n",
        "5. I fixed string formatting to evaluate multiplication."
      ],
      "metadata": {
        "id": "ElChaqndpPp7"
      },
      "id": "ElChaqndpPp7"
    }
  ],
  "metadata": {
    "kernelspec": {
      "display_name": "Python 3 (ipykernel)",
      "language": "python",
      "name": "python3"
    },
    "language_info": {
      "codemirror_mode": {
        "name": "ipython",
        "version": 3
      },
      "file_extension": ".py",
      "mimetype": "text/x-python",
      "name": "python",
      "nbconvert_exporter": "python",
      "pygments_lexer": "ipython3",
      "version": "3.9.2"
    },
    "colab": {
      "provenance": []
    }
  },
  "nbformat": 4,
  "nbformat_minor": 5
}